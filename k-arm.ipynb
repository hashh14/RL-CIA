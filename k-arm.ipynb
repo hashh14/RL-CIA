{
 "cells": [
  {
   "cell_type": "markdown",
   "metadata": {},
   "source": [
    "# Problem statement:\n",
    "Implementing a recommendation system using K-arm bandit.\n",
    "The use case considered is a movie recommendation system which can recommend a movie to a user based on what genre of movies he prefers to watch."
   ]
  },
  {
   "cell_type": "markdown",
   "metadata": {},
   "source": [
    "# Approach\n",
    "The approach assumes that there are 5 genres. Each genre is initially assigned a score of 0. To simulate a user watching a movie, a simple binary reward system is created using random library where if a user watches a particular genre, a reward of 1 is given and if he doesn't, the reward is 0 for that genre. Using this and the epsilon probability algorithm, the scores are updated at every step. At the end, a dictionary of movie genres along with its corresponding estimate for recommendation is returned."
   ]
  },
  {
   "cell_type": "markdown",
   "metadata": {},
   "source": [
    "# Code"
   ]
  },
  {
   "cell_type": "code",
   "execution_count": 1,
   "metadata": {},
   "outputs": [
    {
     "name": "stdout",
     "output_type": "stream",
     "text": [
      "Recommended: sci-fi, Reward: 1, Updated Estimates: {'action': 0.0, 'comedy': 0.0, 'drama': 0.0, 'sci-fi': 1.0, 'horror': 0.0}\n",
      "Recommended: sci-fi, Reward: 1, Updated Estimates: {'action': 0.0, 'comedy': 0.0, 'drama': 0.0, 'sci-fi': 1.0, 'horror': 0.0}\n",
      "Recommended: sci-fi, Reward: 1, Updated Estimates: {'action': 0.0, 'comedy': 0.0, 'drama': 0.0, 'sci-fi': 1.0, 'horror': 0.0}\n",
      "Recommended: sci-fi, Reward: 0, Updated Estimates: {'action': 0.0, 'comedy': 0.0, 'drama': 0.0, 'sci-fi': 0.75, 'horror': 0.0}\n",
      "Recommended: sci-fi, Reward: 0, Updated Estimates: {'action': 0.0, 'comedy': 0.0, 'drama': 0.0, 'sci-fi': 0.6, 'horror': 0.0}\n",
      "Recommended: sci-fi, Reward: 1, Updated Estimates: {'action': 0.0, 'comedy': 0.0, 'drama': 0.0, 'sci-fi': 0.6666666666666666, 'horror': 0.0}\n",
      "Recommended: sci-fi, Reward: 1, Updated Estimates: {'action': 0.0, 'comedy': 0.0, 'drama': 0.0, 'sci-fi': 0.7142857142857143, 'horror': 0.0}\n",
      "Recommended: sci-fi, Reward: 1, Updated Estimates: {'action': 0.0, 'comedy': 0.0, 'drama': 0.0, 'sci-fi': 0.75, 'horror': 0.0}\n",
      "Recommended: sci-fi, Reward: 0, Updated Estimates: {'action': 0.0, 'comedy': 0.0, 'drama': 0.0, 'sci-fi': 0.6666666666666666, 'horror': 0.0}\n",
      "Recommended: sci-fi, Reward: 0, Updated Estimates: {'action': 0.0, 'comedy': 0.0, 'drama': 0.0, 'sci-fi': 0.6, 'horror': 0.0}\n",
      "Recommended: comedy, Reward: 1, Updated Estimates: {'action': 0.0, 'comedy': 1.0, 'drama': 0.0, 'sci-fi': 0.6, 'horror': 0.0}\n",
      "Recommended: comedy, Reward: 0, Updated Estimates: {'action': 0.0, 'comedy': 0.5, 'drama': 0.0, 'sci-fi': 0.6, 'horror': 0.0}\n",
      "Recommended: drama, Reward: 0, Updated Estimates: {'action': 0.0, 'comedy': 0.5, 'drama': 0.0, 'sci-fi': 0.6, 'horror': 0.0}\n",
      "Recommended: sci-fi, Reward: 0, Updated Estimates: {'action': 0.0, 'comedy': 0.5, 'drama': 0.0, 'sci-fi': 0.5454545454545454, 'horror': 0.0}\n",
      "Recommended: comedy, Reward: 1, Updated Estimates: {'action': 0.0, 'comedy': 0.6666666666666666, 'drama': 0.0, 'sci-fi': 0.5454545454545454, 'horror': 0.0}\n",
      "Recommended: comedy, Reward: 1, Updated Estimates: {'action': 0.0, 'comedy': 0.75, 'drama': 0.0, 'sci-fi': 0.5454545454545454, 'horror': 0.0}\n",
      "Recommended: action, Reward: 0, Updated Estimates: {'action': 0.0, 'comedy': 0.75, 'drama': 0.0, 'sci-fi': 0.5454545454545454, 'horror': 0.0}\n",
      "Recommended: comedy, Reward: 1, Updated Estimates: {'action': 0.0, 'comedy': 0.8, 'drama': 0.0, 'sci-fi': 0.5454545454545454, 'horror': 0.0}\n",
      "Recommended: comedy, Reward: 1, Updated Estimates: {'action': 0.0, 'comedy': 0.8333333333333334, 'drama': 0.0, 'sci-fi': 0.5454545454545454, 'horror': 0.0}\n",
      "Recommended: comedy, Reward: 1, Updated Estimates: {'action': 0.0, 'comedy': 0.8571428571428572, 'drama': 0.0, 'sci-fi': 0.5454545454545454, 'horror': 0.0}\n"
     ]
    }
   ],
   "source": [
    "import random\n",
    "\n",
    "# Define the genres\n",
    "genres = ['action', 'comedy', 'drama', 'sci-fi', 'horror']\n",
    "\n",
    "# Initialize reward estimates and counts\n",
    "reward_estimates = {genre: 0.0 for genre in genres}\n",
    "counts = {genre: 0 for genre in genres}\n",
    "\n",
    "def choose_genre(epsilon):\n",
    "    \"\"\"\n",
    "    Choose a genre based on epsilon-greedy strategy.\n",
    "    \n",
    "    Args:\n",
    "    epsilon (float): Exploration probability.\n",
    "    \n",
    "    Returns:\n",
    "    str: Chosen genre.\n",
    "    \"\"\"\n",
    "    if random.random() < epsilon:\n",
    "        # Explore: Choose a random genre\n",
    "        return random.choice(genres)\n",
    "    else:\n",
    "        # Exploit: Choose the genre with the highest estimated reward\n",
    "        return max(reward_estimates, key=reward_estimates.get)\n",
    "\n",
    "def update_reward(genre, reward):\n",
    "    \"\"\"\n",
    "    Update the reward estimate for a given genre.\n",
    "    \n",
    "    Args:\n",
    "    genre (str): The genre to update.\n",
    "    reward (int): The reward received (0 or 1).\n",
    "    \"\"\"\n",
    "    counts[genre] += 1\n",
    "    # Update the reward estimate using incremental average formula\n",
    "    reward_estimates[genre] += (reward - reward_estimates[genre]) / counts[genre]\n",
    "\n",
    "def simulate_recommendation_process(n_interactions, epsilon=0.4):\n",
    "    \"\"\"\n",
    "    Simulate a movie recommendation process using epsilon-greedy strategy.\n",
    "    \n",
    "    Args:\n",
    "    n_interactions (int): Number of recommendations to simulate.\n",
    "    epsilon (float): Exploration probability, default is 0.4.\n",
    "    \"\"\"\n",
    "    for _ in range(n_interactions):\n",
    "        genre = choose_genre(epsilon)\n",
    "        # Simulating a reward based on user engagement (assume binary reward for simplicity)\n",
    "        reward = random.choice([0, 1])  \n",
    "        update_reward(genre, reward)\n",
    "        print(f\"Recommended: {genre}, Reward: {reward}, Updated Estimates: {reward_estimates}\")\n",
    "\n",
    "# Example usage\n",
    "simulate_recommendation_process(20, epsilon=0.3)"
   ]
  },
  {
   "cell_type": "code",
   "execution_count": null,
   "metadata": {},
   "outputs": [],
   "source": []
  }
 ],
 "metadata": {
  "kernelspec": {
   "display_name": "Python 3",
   "language": "python",
   "name": "python3"
  },
  "language_info": {
   "name": "python",
   "version": "3.9.7"
  }
 },
 "nbformat": 4,
 "nbformat_minor": 2
}
